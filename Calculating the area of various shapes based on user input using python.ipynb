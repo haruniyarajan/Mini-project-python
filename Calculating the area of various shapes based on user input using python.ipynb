{
 "cells": [
  {
   "cell_type": "markdown",
   "metadata": {},
   "source": [
    "Write a program to calculate area of shapes. Your program should be capable of calculating the area of a square, rectangle, triangle and a circle. The user should be presented with options to select the shape. Based on which shape is chosed by the user, the program should ask for the appropriate input and print the resulting area on the screen.\n",
    "\n",
    "When the program is run, the screen should display something like this:\n",
    "\n",
    "**Which shape would you like to calculate the area for? Please enter the option number-**<br>\n",
    "**1. Square**<br>\n",
    "**2. Rectangle**<br>\n",
    "**3. Triangle**<br>\n",
    "**4. Circle**<br>\n",
    "**Enter Option: _**\n",
    "\n",
    "Say the user enters the option 1.\n",
    "\n",
    "**Please enter the length of a side: _**\n",
    "\n",
    "If the user enters a value of 5. The output should be:\n",
    "\n",
    "**The area of the square is 25**\n",
    "\n",
    "This program should indicate that the input is invalid if the user enters a character instead of a number as input. For instance if the user enters a value of ‘a’ instead of 5 in the previous example the program should prompt:\n",
    "\n",
    "**Invalid input, please enter a number: _**\n"
   ]
  },
  {
   "cell_type": "code",
   "execution_count": 2,
   "metadata": {},
   "outputs": [
    {
     "name": "stdout",
     "output_type": "stream",
     "text": [
      "Which shape would you like to calculate the area for? Please enter the option number-\n",
      "1. Square \n",
      "2. Rectangle\n",
      "3. Triangle\n",
      "4. Circle\n",
      "Enter Option: 3\n",
      "You have entered option 3\n",
      "Enter the base :u\n",
      "Invalid input, please enter the base as a number :7\n",
      "Enter the height :i\n",
      "Invalid input, please enter the height as a number :9\n",
      "The area of the triangle is 31.5\n"
     ]
    }
   ],
   "source": [
    "user_input=input('''Which shape would you like to calculate the area for? Please enter the option number-\n",
    "1. Square \n",
    "2. Rectangle\n",
    "3. Triangle\n",
    "4. Circle\n",
    "Enter Option: ''')\n",
    "\n",
    "if(user_input=='1'):\n",
    "    print('You have entered option 1')\n",
    "    side=input('Enter the length of a side :')\n",
    "    while not side.isnumeric():\n",
    "        side=input('Invalid input, please enter the length as a number :')\n",
    "    side=int(side)    \n",
    "    area_sq=side*side\n",
    "    print('The area of the square is',area_sq)\n",
    "    \n",
    "elif(user_input=='2'):\n",
    "    print('You have entered option 2')\n",
    "    l=input('Enter the length :')\n",
    "    while not l.isnumeric():\n",
    "        l=input('Invalid input, please enter the length as a number :')\n",
    "    b=input('Enter the breadth :')\n",
    "    while not b.isnumeric():\n",
    "        b=input('Invalid input, please enter the breadth as a number :')\n",
    "    l,b=int(l),int(b)\n",
    "    area_rec=l*b\n",
    "    print('The area of the rectange is',area_rec)\n",
    "\n",
    "elif(user_input=='3'):\n",
    "    print('You have entered option 3')\n",
    "    base=input('Enter the base :')\n",
    "    while not base.isnumeric():\n",
    "        base=input('Invalid input, please enter the base as a number :')\n",
    "    height=input('Enter the height :')\n",
    "    while not height.isnumeric():\n",
    "        height=input('Invalid input, please enter the height as a number :')\n",
    "    area_tri=0.5*(int(base))*(int(height))\n",
    "    print('The area of the triangle is',area_tri)   \n",
    "\n",
    "elif(user_input=='4'):\n",
    "    print('You have entered option 4')\n",
    "    r=input('Enter the radius :')\n",
    "    while not r.isnumeric():\n",
    "        r=input('Invalid input, please enter the radius as a number :')\n",
    "    area_cir=3.14*(int(r))**(2)\n",
    "    print('The area of the circle is :',area_cir)  \n",
    "\n",
    "else:\n",
    "    print('Invalid input, please enter a number from the above options. ')"
   ]
  },
  {
   "cell_type": "markdown",
   "metadata": {},
   "source": []
  }
 ],
 "metadata": {
  "kernelspec": {
   "display_name": "Python 3",
   "language": "python",
   "name": "python3"
  },
  "language_info": {
   "codemirror_mode": {
    "name": "ipython",
    "version": 3
   },
   "file_extension": ".py",
   "mimetype": "text/x-python",
   "name": "python",
   "nbconvert_exporter": "python",
   "pygments_lexer": "ipython3",
   "version": "3.7.6"
  }
 },
 "nbformat": 4,
 "nbformat_minor": 2
}

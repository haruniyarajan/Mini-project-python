{
 "cells": [
  {
   "cell_type": "markdown",
   "metadata": {},
   "source": [
    "Create an encrypter in python based on the ceaser cipher. It is a substitution cipher where each character of the original text is shifted a certain number characters in the alphabet. Write a function that would require 2 arguments – the input text to be encrypted and a key. For eg: Given the input text ‘hello’ and the key 3, the resulting encryted text would be ‘khoor’. Here you can see that every character in the string hello is shifted by 3 characters. ‘h’ has shifted to ‘k’, ‘e’ has shifted to ‘h’ and so on. If a key of 5 were used, the resulting string would be ‘mjqqt’. This function should be capable of ignoring any characters which are not alphabets. Th2 character ‘z’ entered b\n",
    "y the user for a key of 3 would result in ‘c’.\n",
    "\n",
    "Usage:<br>\n",
    "**encrypt(‘hello world!’, 3)**<br>\n",
    "**‘khoor zruog!’**\n",
    "\n",
    "Similarly create decrypter which can decode the encryted text when provided the input text and key\n",
    "\n",
    "Usage:<br>\n",
    "**decrypt(‘khoor zruog!’, 3)**<br>\n",
    "**‘hello world!’**\n",
    "\n",
    "For the sake of simplicity you can assume that input solely consists of lowercase alphabets, spaces and punctuation symbols. Numbers in the input text would also be ignored similar to symbols."
   ]
  },
  {
   "cell_type": "code",
   "execution_count": 136,
   "metadata": {
    "scrolled": true
   },
   "outputs": [
    {
     "name": "stdout",
     "output_type": "stream",
     "text": [
      "What do you want to do? Pick one from the options below\n",
      "1.Encryption\n",
      "2.Decryption\n",
      "Enter an option : 2\n",
      "Enter a text : khoor zruog!\n",
      "Enter a key : 3\n",
      "hello world!\n"
     ]
    }
   ],
   "source": [
    "user_input=input('''What do you want to do? Pick one from the options below\n",
    "1.Encryption\n",
    "2.Decryption\n",
    "Enter an option : ''')\n",
    "\n",
    "if(user_input=='1'):\n",
    "    def encrypt(text,key):\n",
    "        string=\"\"\n",
    "        text=input('Enter a text : ')\n",
    "        key=int(input('Enter a key : '))  \n",
    "        for i in text.lower():\n",
    "            if i.isalpha():\n",
    "                string += chr((((ord(i)- 97 )+ key)% 26 )+ 97) \n",
    "            else:\n",
    "                string=string+i\n",
    "        print(string)  \n",
    "    encrypt(text,key)\n",
    "\n",
    "elif(user_input=='2'):\n",
    "    def decrypt(text,key):\n",
    "            string=\"\"\n",
    "            text=input('Enter a text : ')\n",
    "            key=int(input('Enter a key : '))  \n",
    "            for i in text.lower():\n",
    "                if i.isalpha():\n",
    "                    string += chr((((ord(i)- 97) - key)% 26) + 97) \n",
    "                else:\n",
    "                    string=string+i\n",
    "            print(string) \n",
    "\n",
    "    decrypt(text,key)\n",
    "\n",
    "else:\n",
    "    print('Invalid input.Please,pick a number from the options.')"
   ]
  },
  {
   "cell_type": "markdown",
   "metadata": {},
   "source": []
  }
 ],
 "metadata": {
  "kernelspec": {
   "display_name": "Python 3",
   "language": "python",
   "name": "python3"
  },
  "language_info": {
   "codemirror_mode": {
    "name": "ipython",
    "version": 3
   },
   "file_extension": ".py",
   "mimetype": "text/x-python",
   "name": "python",
   "nbconvert_exporter": "python",
   "pygments_lexer": "ipython3",
   "version": "3.7.6"
  }
 },
 "nbformat": 4,
 "nbformat_minor": 2
}
